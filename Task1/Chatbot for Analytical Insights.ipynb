{
 "cells": [
  {
   "cell_type": "markdown",
   "id": "49b77905-e240-4cb5-8133-170a1f527870",
   "metadata": {},
   "source": [
    "# Task 5: Chatbot for Analytical Insights (Superstore Dataset)\n",
    "\n",
    "**Objective:**  \n",
    "- Upload Superstore dataset and interact with a chatbot to get analytical insights.\n",
    "- Queries examples:\n",
    "  - \"Top 5 products by Sales\"\n",
    "  - \"Most profitable Category\"\n",
    "  - \"Total Quantity sold by Region\"\n",
    "- Technology: Python, Pandas, optional open-source LLM\n"
   ]
  },
  {
   "cell_type": "markdown",
   "id": "740ccd8f-c997-4c1c-90d9-cce8a2972954",
   "metadata": {},
   "source": [
    "## Step 2: Import Libraries\n"
   ]
  },
  {
   "cell_type": "code",
   "execution_count": 3,
   "id": "d0969501-5828-44fd-ac86-757ccaa322d7",
   "metadata": {},
   "outputs": [
    {
     "name": "stdout",
     "output_type": "stream",
     "text": [
      "WARNING:tensorflow:From C:\\Users\\shrut\\AppData\\Roaming\\Python\\Python312\\site-packages\\keras\\src\\losses.py:2976: The name tf.losses.sparse_softmax_cross_entropy is deprecated. Please use tf.compat.v1.losses.sparse_softmax_cross_entropy instead.\n",
      "\n"
     ]
    }
   ],
   "source": [
    "import pandas as pd\n",
    "from transformers import pipeline\n"
   ]
  },
  {
   "cell_type": "markdown",
   "id": "4c09930a-a46e-49a3-94a8-8b224b0d9f4a",
   "metadata": {},
   "source": [
    "## Step 3: Load Superstore Dataset\n"
   ]
  },
  {
   "cell_type": "code",
   "execution_count": 5,
   "id": "b73ce64b-efa9-4ec9-9fb2-f20d34aed4fe",
   "metadata": {},
   "outputs": [
    {
     "data": {
      "text/html": [
       "<div>\n",
       "<style scoped>\n",
       "    .dataframe tbody tr th:only-of-type {\n",
       "        vertical-align: middle;\n",
       "    }\n",
       "\n",
       "    .dataframe tbody tr th {\n",
       "        vertical-align: top;\n",
       "    }\n",
       "\n",
       "    .dataframe thead th {\n",
       "        text-align: right;\n",
       "    }\n",
       "</style>\n",
       "<table border=\"1\" class=\"dataframe\">\n",
       "  <thead>\n",
       "    <tr style=\"text-align: right;\">\n",
       "      <th></th>\n",
       "      <th>Row ID+O6G3A1:R6</th>\n",
       "      <th>Order ID</th>\n",
       "      <th>Order Date</th>\n",
       "      <th>Ship Date</th>\n",
       "      <th>Ship Mode</th>\n",
       "      <th>Customer ID</th>\n",
       "      <th>Customer Name</th>\n",
       "      <th>Segment</th>\n",
       "      <th>Country</th>\n",
       "      <th>City</th>\n",
       "      <th>...</th>\n",
       "      <th>Category</th>\n",
       "      <th>Sub-Category</th>\n",
       "      <th>Product Name</th>\n",
       "      <th>Sales</th>\n",
       "      <th>Quantity</th>\n",
       "      <th>Profit</th>\n",
       "      <th>Returns</th>\n",
       "      <th>Payment Mode</th>\n",
       "      <th>ind1</th>\n",
       "      <th>ind2</th>\n",
       "    </tr>\n",
       "  </thead>\n",
       "  <tbody>\n",
       "    <tr>\n",
       "      <th>0</th>\n",
       "      <td>4918</td>\n",
       "      <td>CA-2019-160304</td>\n",
       "      <td>2019-01-01</td>\n",
       "      <td>2019-01-07</td>\n",
       "      <td>Standard Class</td>\n",
       "      <td>BM-11575</td>\n",
       "      <td>Brendan Murry</td>\n",
       "      <td>Corporate</td>\n",
       "      <td>United States</td>\n",
       "      <td>Gaithersburg</td>\n",
       "      <td>...</td>\n",
       "      <td>Furniture</td>\n",
       "      <td>Bookcases</td>\n",
       "      <td>Bush Westfield Collection Bookcases, Medium Ch...</td>\n",
       "      <td>73.94</td>\n",
       "      <td>1</td>\n",
       "      <td>28.2668</td>\n",
       "      <td>NaN</td>\n",
       "      <td>Online</td>\n",
       "      <td>NaN</td>\n",
       "      <td>NaN</td>\n",
       "    </tr>\n",
       "    <tr>\n",
       "      <th>1</th>\n",
       "      <td>4919</td>\n",
       "      <td>CA-2019-160304</td>\n",
       "      <td>2019-01-02</td>\n",
       "      <td>2019-01-07</td>\n",
       "      <td>Standard Class</td>\n",
       "      <td>BM-11575</td>\n",
       "      <td>Brendan Murry</td>\n",
       "      <td>Corporate</td>\n",
       "      <td>United States</td>\n",
       "      <td>Gaithersburg</td>\n",
       "      <td>...</td>\n",
       "      <td>Furniture</td>\n",
       "      <td>Bookcases</td>\n",
       "      <td>Bush Westfield Collection Bookcases, Medium Ch...</td>\n",
       "      <td>173.94</td>\n",
       "      <td>3</td>\n",
       "      <td>38.2668</td>\n",
       "      <td>NaN</td>\n",
       "      <td>Online</td>\n",
       "      <td>NaN</td>\n",
       "      <td>NaN</td>\n",
       "    </tr>\n",
       "    <tr>\n",
       "      <th>2</th>\n",
       "      <td>4920</td>\n",
       "      <td>CA-2019-160304</td>\n",
       "      <td>2019-01-02</td>\n",
       "      <td>2019-01-07</td>\n",
       "      <td>Standard Class</td>\n",
       "      <td>BM-11575</td>\n",
       "      <td>Brendan Murry</td>\n",
       "      <td>Corporate</td>\n",
       "      <td>United States</td>\n",
       "      <td>Gaithersburg</td>\n",
       "      <td>...</td>\n",
       "      <td>Technology</td>\n",
       "      <td>Phones</td>\n",
       "      <td>GE 30522EE2</td>\n",
       "      <td>231.98</td>\n",
       "      <td>2</td>\n",
       "      <td>67.2742</td>\n",
       "      <td>NaN</td>\n",
       "      <td>Cards</td>\n",
       "      <td>NaN</td>\n",
       "      <td>NaN</td>\n",
       "    </tr>\n",
       "    <tr>\n",
       "      <th>3</th>\n",
       "      <td>3074</td>\n",
       "      <td>CA-2019-125206</td>\n",
       "      <td>2019-01-03</td>\n",
       "      <td>2019-01-05</td>\n",
       "      <td>First Class</td>\n",
       "      <td>LR-16915</td>\n",
       "      <td>Lena Radford</td>\n",
       "      <td>Consumer</td>\n",
       "      <td>United States</td>\n",
       "      <td>Los Angeles</td>\n",
       "      <td>...</td>\n",
       "      <td>Office Supplies</td>\n",
       "      <td>Storage</td>\n",
       "      <td>Recycled Steel Personal File for Hanging File ...</td>\n",
       "      <td>114.46</td>\n",
       "      <td>2</td>\n",
       "      <td>28.6150</td>\n",
       "      <td>NaN</td>\n",
       "      <td>Online</td>\n",
       "      <td>NaN</td>\n",
       "      <td>NaN</td>\n",
       "    </tr>\n",
       "    <tr>\n",
       "      <th>4</th>\n",
       "      <td>8604</td>\n",
       "      <td>US-2019-116365</td>\n",
       "      <td>2019-01-03</td>\n",
       "      <td>2019-01-08</td>\n",
       "      <td>Standard Class</td>\n",
       "      <td>CA-12310</td>\n",
       "      <td>Christine Abelman</td>\n",
       "      <td>Corporate</td>\n",
       "      <td>United States</td>\n",
       "      <td>San Antonio</td>\n",
       "      <td>...</td>\n",
       "      <td>Technology</td>\n",
       "      <td>Accessories</td>\n",
       "      <td>Imation Clip USB flash drive - 8 GB</td>\n",
       "      <td>30.08</td>\n",
       "      <td>2</td>\n",
       "      <td>-5.2640</td>\n",
       "      <td>NaN</td>\n",
       "      <td>Online</td>\n",
       "      <td>NaN</td>\n",
       "      <td>NaN</td>\n",
       "    </tr>\n",
       "  </tbody>\n",
       "</table>\n",
       "<p>5 rows × 23 columns</p>\n",
       "</div>"
      ],
      "text/plain": [
       "   Row ID+O6G3A1:R6        Order ID Order Date  Ship Date       Ship Mode  \\\n",
       "0              4918  CA-2019-160304 2019-01-01 2019-01-07  Standard Class   \n",
       "1              4919  CA-2019-160304 2019-01-02 2019-01-07  Standard Class   \n",
       "2              4920  CA-2019-160304 2019-01-02 2019-01-07  Standard Class   \n",
       "3              3074  CA-2019-125206 2019-01-03 2019-01-05     First Class   \n",
       "4              8604  US-2019-116365 2019-01-03 2019-01-08  Standard Class   \n",
       "\n",
       "  Customer ID      Customer Name    Segment        Country          City  ...  \\\n",
       "0    BM-11575      Brendan Murry  Corporate  United States  Gaithersburg  ...   \n",
       "1    BM-11575      Brendan Murry  Corporate  United States  Gaithersburg  ...   \n",
       "2    BM-11575      Brendan Murry  Corporate  United States  Gaithersburg  ...   \n",
       "3    LR-16915       Lena Radford   Consumer  United States   Los Angeles  ...   \n",
       "4    CA-12310  Christine Abelman  Corporate  United States   San Antonio  ...   \n",
       "\n",
       "          Category Sub-Category  \\\n",
       "0        Furniture    Bookcases   \n",
       "1        Furniture    Bookcases   \n",
       "2       Technology       Phones   \n",
       "3  Office Supplies      Storage   \n",
       "4       Technology  Accessories   \n",
       "\n",
       "                                        Product Name   Sales Quantity  \\\n",
       "0  Bush Westfield Collection Bookcases, Medium Ch...   73.94        1   \n",
       "1  Bush Westfield Collection Bookcases, Medium Ch...  173.94        3   \n",
       "2                                        GE 30522EE2  231.98        2   \n",
       "3  Recycled Steel Personal File for Hanging File ...  114.46        2   \n",
       "4                Imation Clip USB flash drive - 8 GB   30.08        2   \n",
       "\n",
       "    Profit  Returns  Payment Mode  ind1  ind2  \n",
       "0  28.2668      NaN        Online   NaN   NaN  \n",
       "1  38.2668      NaN        Online   NaN   NaN  \n",
       "2  67.2742      NaN         Cards   NaN   NaN  \n",
       "3  28.6150      NaN        Online   NaN   NaN  \n",
       "4  -5.2640      NaN        Online   NaN   NaN  \n",
       "\n",
       "[5 rows x 23 columns]"
      ]
     },
     "execution_count": 5,
     "metadata": {},
     "output_type": "execute_result"
    }
   ],
   "source": [
    "df = pd.read_excel(r\"C:\\Users\\shrut\\Descriptive and Predictive Analysis with Interactive Dashboard\\SuperStore Sales DataSet (1).xlsx\")\n",
    "df.head()"
   ]
  },
  {
   "cell_type": "code",
   "execution_count": 6,
   "id": "1685418e-edc4-4f11-af8b-ce02a9c08b6d",
   "metadata": {},
   "outputs": [
    {
     "data": {
      "text/plain": [
       "Index(['Row ID+O6G3A1:R6', 'Order ID', 'Order Date', 'Ship Date', 'Ship Mode',\n",
       "       'Customer ID', 'Customer Name', 'Segment', 'Country', 'City', 'State',\n",
       "       'Region', 'Product ID', 'Category', 'Sub-Category', 'Product Name',\n",
       "       'Sales', 'Quantity', 'Profit', 'Returns', 'Payment Mode', 'ind1',\n",
       "       'ind2'],\n",
       "      dtype='object')"
      ]
     },
     "execution_count": 6,
     "metadata": {},
     "output_type": "execute_result"
    }
   ],
   "source": [
    "df.columns\n"
   ]
  },
  {
   "cell_type": "markdown",
   "id": "273d0d36-eb6e-4560-897c-af936f3c8849",
   "metadata": {},
   "source": [
    "## Step 4: Optional LLM Initialization\n"
   ]
  },
  {
   "cell_type": "code",
   "execution_count": 8,
   "id": "d3bbc4ef-01ae-4b47-96e6-0241a2ccddfd",
   "metadata": {},
   "outputs": [
    {
     "name": "stderr",
     "output_type": "stream",
     "text": [
      "Device set to use cpu\n"
     ]
    }
   ],
   "source": [
    "# Optional: small text-generation model\n",
    "chatbot_llm = pipeline(\"text-generation\", model=\"gpt2\", tokenizer=\"gpt2\")\n"
   ]
  },
  {
   "cell_type": "markdown",
   "id": "fe8224ca-5129-4fa8-b67b-ecacf51dfaac",
   "metadata": {},
   "source": [
    "## Step 5: Chatbot Function (Pandas-based)\n"
   ]
  },
  {
   "cell_type": "code",
   "execution_count": 10,
   "id": "f4de4079-764a-441f-995d-cf53e38f7280",
   "metadata": {},
   "outputs": [],
   "source": [
    "def superstore_chatbot(query):\n",
    "    query_lower = query.lower()\n",
    "    \n",
    "    # Top 5 products by Sales\n",
    "    if \"top\" in query_lower and \"sales\" in query_lower:\n",
    "        try:\n",
    "            result = df.sort_values('Sales', ascending=False).head(5)\n",
    "            return result[['Product Name','Sales','Category','Region']]\n",
    "        except:\n",
    "            return \"Error: 'Sales' column missing.\"\n",
    "    \n",
    "    # Most profitable Categories\n",
    "    elif \"most profitable\" in query_lower:\n",
    "        try:\n",
    "            result = df.groupby('Category')['Profit'].sum().sort_values(ascending=False).head(5)\n",
    "            return result\n",
    "        except:\n",
    "            return \"Error: 'Profit' or 'Category' missing.\"\n",
    "    \n",
    "    # Total Quantity by Region\n",
    "    elif \"total quantity\" in query_lower and \"region\" in query_lower:\n",
    "        try:\n",
    "            result = df.groupby('Region')['Quantity'].sum()\n",
    "            return result\n",
    "        except:\n",
    "            return \"Error: 'Quantity' or 'Region' missing.\"\n",
    "    \n",
    "    # Optional LLM response for other queries\n",
    "    else:\n",
    "        response = chatbot_llm(query, max_new_tokens=100, truncation=True, do_sample=True)\n",
    "        return response[0]['generated_text']\n"
   ]
  },
  {
   "cell_type": "markdown",
   "id": "4c4e5834-75e3-49b4-967c-2a29cc2d748a",
   "metadata": {},
   "source": [
    "## Step 6: Interact with Chatbot\n"
   ]
  },
  {
   "cell_type": "code",
   "execution_count": 12,
   "id": "faded032-a449-4e4b-8818-efa339f9cb82",
   "metadata": {},
   "outputs": [
    {
     "name": "stdin",
     "output_type": "stream",
     "text": [
      "Ask your question (type 'exit' to stop):  Top 5 Country by Sales\n"
     ]
    },
    {
     "name": "stdout",
     "output_type": "stream",
     "text": [
      "                                          Product Name    Sales  \\\n",
      "430   3D Systems Cube Printer, 2nd Generation, Magenta  9099.93   \n",
      "5236             Canon imageCLASS 2200 Advanced Copier  5517.97   \n",
      "2654         GBC DocuBind P400 Electric Binding System  5455.96   \n",
      "1694              Hewlett Packard LaserJet 3310 Copier  5399.91   \n",
      "4735  3D Systems Cube Printer, 2nd Generation, Magenta  5234.96   \n",
      "\n",
      "             Category   Region  \n",
      "430        Technology     East  \n",
      "5236       Technology     East  \n",
      "2654  Office Supplies  Central  \n",
      "1694       Technology     East  \n",
      "4735       Technology     East  \n"
     ]
    },
    {
     "name": "stdin",
     "output_type": "stream",
     "text": [
      "Ask your question (type 'exit' to stop):  Top 5 Country by Profit\n"
     ]
    },
    {
     "name": "stderr",
     "output_type": "stream",
     "text": [
      "Setting `pad_token_id` to `eos_token_id`:50256 for open-end generation.\n"
     ]
    },
    {
     "name": "stdout",
     "output_type": "stream",
     "text": [
      "Top 5 Country by Profit\n",
      "\n",
      "Country Rank Country Rank 1 USA $8,000 $32,950 2 Canada $11,000 $32,950 3 Netherlands $11,000 $32,950 4 Norway $11,000 $32,950 5 Germany $11,000 $32,950 6 Sweden $12,000 $32,950 7 France $12,000 $32,950 8 Denmark $12,000 $32,950 9 Belgium $12,000 $32,950 10 Italy $12\n"
     ]
    },
    {
     "name": "stdin",
     "output_type": "stream",
     "text": [
      "Ask your question (type 'exit' to stop):  Total Sales by Region\n"
     ]
    },
    {
     "name": "stderr",
     "output_type": "stream",
     "text": [
      "Setting `pad_token_id` to `eos_token_id`:50256 for open-end generation.\n"
     ]
    },
    {
     "name": "stdout",
     "output_type": "stream",
     "text": [
      "Total Sales by Region\n",
      "\n",
      "Inventory in the United States is estimated to be $3.3 trillion (up 35% from $4.2 trillion in 2015). The overall sales of inventory in the United States is estimated to be $3.8 trillion (up 47% from $3.8 trillion in 2015). The overall sales of inventory in the United States is estimated to be $3.1 trillion (up 35% from $3.1 trillion in 2015).\n",
      "\n",
      "Inventory per Unit of Goods\n"
     ]
    },
    {
     "name": "stdin",
     "output_type": "stream",
     "text": [
      "Ask your question (type 'exit' to stop):  Average Profit by Category\n"
     ]
    },
    {
     "name": "stderr",
     "output_type": "stream",
     "text": [
      "Setting `pad_token_id` to `eos_token_id`:50256 for open-end generation.\n"
     ]
    },
    {
     "name": "stdout",
     "output_type": "stream",
     "text": [
      "Average Profit by Category\n",
      "\n",
      "Here are some more table-specific statistics for this category:\n",
      "\n",
      "Category Average Profit by Category Category Average Profit by Category Average Profit by Category Average Profit by Category Average Profit by Category Average Profit by Category Average Profit by Category Average Profit by Category Average Profit by Category Average Profit by Category Average Profit by Category Average Profit by Category Average Profit by Category Average Profit by Category Average Profit by Category Average Profit by Category Average Profit by Category Average Profit by Category Average Profit by Category Average Profit by Category Average Profit\n"
     ]
    },
    {
     "name": "stdin",
     "output_type": "stream",
     "text": [
      "Ask your question (type 'exit' to stop):  Top 5 States with highest Sales\n"
     ]
    },
    {
     "name": "stdout",
     "output_type": "stream",
     "text": [
      "                                          Product Name    Sales  \\\n",
      "430   3D Systems Cube Printer, 2nd Generation, Magenta  9099.93   \n",
      "5236             Canon imageCLASS 2200 Advanced Copier  5517.97   \n",
      "2654         GBC DocuBind P400 Electric Binding System  5455.96   \n",
      "1694              Hewlett Packard LaserJet 3310 Copier  5399.91   \n",
      "4735  3D Systems Cube Printer, 2nd Generation, Magenta  5234.96   \n",
      "\n",
      "             Category   Region  \n",
      "430        Technology     East  \n",
      "5236       Technology     East  \n",
      "2654  Office Supplies  Central  \n",
      "1694       Technology     East  \n",
      "4735       Technology     East  \n"
     ]
    },
    {
     "name": "stdin",
     "output_type": "stream",
     "text": [
      "Ask your question (type 'exit' to stop):  Which City has the highest Returns\n"
     ]
    },
    {
     "name": "stderr",
     "output_type": "stream",
     "text": [
      "Setting `pad_token_id` to `eos_token_id`:50256 for open-end generation.\n"
     ]
    },
    {
     "name": "stdout",
     "output_type": "stream",
     "text": [
      "Which City has the highest Returns per Taxpayer of any municipality in the world.\n",
      "\n",
      "The City's returns are based on a taxonomy of the largest four cities in the world. The largest city in the world is Detroit, with a return of $39.05. The smallest city in the world is Zurich, Switzerland ($31.46).\n",
      "\n",
      "In 2011, the average return per taxpayer of the City of Detroit was $15, a return of $1.53.\n",
      "\n",
      "As of 2011, the City\n"
     ]
    },
    {
     "name": "stdin",
     "output_type": "stream",
     "text": [
      "Ask your question (type 'exit' to stop):  Top 10 Product Name by Sales\n"
     ]
    },
    {
     "name": "stdout",
     "output_type": "stream",
     "text": [
      "                                          Product Name    Sales  \\\n",
      "430   3D Systems Cube Printer, 2nd Generation, Magenta  9099.93   \n",
      "5236             Canon imageCLASS 2200 Advanced Copier  5517.97   \n",
      "2654         GBC DocuBind P400 Electric Binding System  5455.96   \n",
      "1694              Hewlett Packard LaserJet 3310 Copier  5399.91   \n",
      "4735  3D Systems Cube Printer, 2nd Generation, Magenta  5234.96   \n",
      "\n",
      "             Category   Region  \n",
      "430        Technology     East  \n",
      "5236       Technology     East  \n",
      "2654  Office Supplies  Central  \n",
      "1694       Technology     East  \n",
      "4735       Technology     East  \n"
     ]
    },
    {
     "name": "stdin",
     "output_type": "stream",
     "text": [
      "Ask your question (type 'exit' to stop):  exit\n"
     ]
    }
   ],
   "source": [
    "while True:\n",
    "    query = input(\"Ask your question (type 'exit' to stop): \")\n",
    "    if query.lower() == 'exit':\n",
    "        break\n",
    "    response = superstore_chatbot(query)\n",
    "    print(response)\n"
   ]
  },
  {
   "cell_type": "code",
   "execution_count": null,
   "id": "45cf7d56-16d1-495c-8d64-b2a73bfb17f6",
   "metadata": {},
   "outputs": [],
   "source": []
  },
  {
   "cell_type": "code",
   "execution_count": null,
   "id": "2dd0cca2-ee1b-4ce2-86ac-078826aef9be",
   "metadata": {},
   "outputs": [],
   "source": []
  },
  {
   "cell_type": "code",
   "execution_count": null,
   "id": "84c3cbb7-6a39-454e-a7f2-dd0acd4fb950",
   "metadata": {},
   "outputs": [],
   "source": []
  },
  {
   "cell_type": "code",
   "execution_count": null,
   "id": "4581d5d6-381f-4404-a0be-09b49f858bde",
   "metadata": {},
   "outputs": [],
   "source": []
  },
  {
   "cell_type": "code",
   "execution_count": null,
   "id": "0274a87b-0645-42c9-b78c-419bc08fefaf",
   "metadata": {},
   "outputs": [],
   "source": []
  }
 ],
 "metadata": {
  "kernelspec": {
   "display_name": "Python 3 (ipykernel)",
   "language": "python",
   "name": "python3"
  },
  "language_info": {
   "codemirror_mode": {
    "name": "ipython",
    "version": 3
   },
   "file_extension": ".py",
   "mimetype": "text/x-python",
   "name": "python",
   "nbconvert_exporter": "python",
   "pygments_lexer": "ipython3",
   "version": "3.12.3"
  }
 },
 "nbformat": 4,
 "nbformat_minor": 5
}
