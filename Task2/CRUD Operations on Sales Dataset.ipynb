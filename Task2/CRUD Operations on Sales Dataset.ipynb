{
 "cells": [
  {
   "cell_type": "markdown",
   "id": "da5014be-65c8-4bed-a203-910bd37deef0",
   "metadata": {},
   "source": [
    "# CRUD Operations on Sales Dataset\n",
    "\n",
    "**Author:** [Your Name]  \n",
    "**Date:** 2025-08-13  \n",
    "\n",
    "This notebook demonstrates **CRUD (Create, Read, Update, Delete)** operations on a sales dataset using Python and Pandas.  \n",
    "We will:\n",
    "1. Create a dataset with 15 sales records.\n",
    "2. Perform CRUD operations.\n",
    "3. Save the dataset to a CSV file.\n",
    "\n",
    "**Libraries Used:**\n",
    "- pandas (for data manipulation)\n",
    "\n",
    "---\n"
   ]
  },
  {
   "cell_type": "code",
   "execution_count": 8,
   "id": "0dc45ab9-b3a7-4da9-a498-c6113e8a975f",
   "metadata": {},
   "outputs": [
    {
     "name": "stdout",
     "output_type": "stream",
     "text": [
      "Initial Dataset:\n",
      "     SaleID        Product  Quantity  Price        Date\n",
      "0        1         Laptop         2  55000  2025-08-01\n",
      "1        2          Mouse         5    500  2025-08-02\n",
      "2        3       Keyboard         3   1500  2025-08-03\n",
      "3        4        Monitor         1  12000  2025-08-04\n",
      "4        5        Printer         2   8000  2025-08-05\n",
      "5        6         Tablet         4  20000  2025-08-06\n",
      "6        7         Camera         1  45000  2025-08-07\n",
      "7        8     Smartphone         6  30000  2025-08-08\n",
      "8        9        Speaker         2   3500  2025-08-09\n",
      "9       10        Charger         7    800  2025-08-10\n",
      "10      11      USB Cable        10    200  2025-08-11\n",
      "11      12   External HDD         2   6000  2025-08-12\n",
      "12      13            SSD         3   9000  2025-08-13\n",
      "13      14  Graphics Card         1  45000  2025-08-14\n",
      "14      15         Router         5   2500  2025-08-15\n"
     ]
    }
   ],
   "source": [
    "import pandas as pd\n",
    "\n",
    "# Step 1: Create Dataset\n",
    "data = [\n",
    "    {\"SaleID\": 1, \"Product\": \"Laptop\", \"Quantity\": 2, \"Price\": 55000, \"Date\": \"2025-08-01\"},\n",
    "    {\"SaleID\": 2, \"Product\": \"Mouse\", \"Quantity\": 5, \"Price\": 500, \"Date\": \"2025-08-02\"},\n",
    "    {\"SaleID\": 3, \"Product\": \"Keyboard\", \"Quantity\": 3, \"Price\": 1500, \"Date\": \"2025-08-03\"},\n",
    "    {\"SaleID\": 4, \"Product\": \"Monitor\", \"Quantity\": 1, \"Price\": 12000, \"Date\": \"2025-08-04\"},\n",
    "    {\"SaleID\": 5, \"Product\": \"Printer\", \"Quantity\": 2, \"Price\": 8000, \"Date\": \"2025-08-05\"},\n",
    "    {\"SaleID\": 6, \"Product\": \"Tablet\", \"Quantity\": 4, \"Price\": 20000, \"Date\": \"2025-08-06\"},\n",
    "    {\"SaleID\": 7, \"Product\": \"Camera\", \"Quantity\": 1, \"Price\": 45000, \"Date\": \"2025-08-07\"},\n",
    "    {\"SaleID\": 8, \"Product\": \"Smartphone\", \"Quantity\": 6, \"Price\": 30000, \"Date\": \"2025-08-08\"},\n",
    "    {\"SaleID\": 9, \"Product\": \"Speaker\", \"Quantity\": 2, \"Price\": 3500, \"Date\": \"2025-08-09\"},\n",
    "    {\"SaleID\": 10, \"Product\": \"Charger\", \"Quantity\": 7, \"Price\": 800, \"Date\": \"2025-08-10\"},\n",
    "    {\"SaleID\": 11, \"Product\": \"USB Cable\", \"Quantity\": 10, \"Price\": 200, \"Date\": \"2025-08-11\"},\n",
    "    {\"SaleID\": 12, \"Product\": \"External HDD\", \"Quantity\": 2, \"Price\": 6000, \"Date\": \"2025-08-12\"},\n",
    "    {\"SaleID\": 13, \"Product\": \"SSD\", \"Quantity\": 3, \"Price\": 9000, \"Date\": \"2025-08-13\"},\n",
    "    {\"SaleID\": 14, \"Product\": \"Graphics Card\", \"Quantity\": 1, \"Price\": 45000, \"Date\": \"2025-08-14\"},\n",
    "    {\"SaleID\": 15, \"Product\": \"Router\", \"Quantity\": 5, \"Price\": 2500, \"Date\": \"2025-08-15\"}\n",
    "]\n",
    "\n",
    "df = pd.DataFrame(data)\n",
    "df.to_csv(\"sales.csv\", index=False)\n",
    "\n",
    "print(\"Initial Dataset:\\n\", df)\n"
   ]
  },
  {
   "cell_type": "markdown",
   "id": "e00f7c5b-270c-4e0f-9770-f804429d7f67",
   "metadata": {},
   "source": [
    "## CREATE Operation\r\n",
    "We will insert a new record into the dataset using `pd.concat()` to append the new row.\r\n"
   ]
  },
  {
   "cell_type": "code",
   "execution_count": 15,
   "id": "c00c4ac7-792a-4b93-8f44-07044e42d90a",
   "metadata": {},
   "outputs": [
    {
     "name": "stdout",
     "output_type": "stream",
     "text": [
      "After CREATE:\n",
      "     SaleID        Product  Quantity  Price        Date\n",
      "0        1         Laptop         2  55000  2025-08-01\n",
      "1        2          Mouse         5    500  2025-08-02\n",
      "2        3       Keyboard         3   1500  2025-08-03\n",
      "3        4        Monitor         1  12000  2025-08-04\n",
      "4        5        Printer         2   8000  2025-08-05\n",
      "5        6         Tablet         4  20000  2025-08-06\n",
      "6        7         Camera         1  45000  2025-08-07\n",
      "7        8     Smartphone         6  30000  2025-08-08\n",
      "8        9        Speaker         2   3500  2025-08-09\n",
      "9       10        Charger         7    800  2025-08-10\n",
      "10      11      USB Cable        10    200  2025-08-11\n",
      "11      12   External HDD         2   6000  2025-08-12\n",
      "12      13            SSD         3   9000  2025-08-13\n",
      "13      14  Graphics Card         1  45000  2025-08-14\n",
      "14      15         Router         5   2500  2025-08-15\n",
      "15      16     Headphones         3   2500  2025-08-16\n",
      "16      16     Headphones         3   2500  2025-08-16\n",
      "17      16     Headphones         3   2500  2025-08-16\n"
     ]
    }
   ],
   "source": [
    "# Step 2: CREATE Operation\n",
    "new_record = {\"SaleID\": 16, \"Product\": \"Headphones\", \"Quantity\": 3, \"Price\": 2500, \"Date\": \"2025-08-16\"}\n",
    "df = pd.concat([df, pd.DataFrame([new_record])], ignore_index=True)\n",
    "print(\"After CREATE:\\n\", df)\n"
   ]
  },
  {
   "cell_type": "markdown",
   "id": "c8c3c2bf-8a49-46e8-9606-86d7f7366e23",
   "metadata": {},
   "source": [
    "## READ Operation\r\n",
    "We will read and display products where `Quantity > 2`.\r\n"
   ]
  },
  {
   "cell_type": "code",
   "execution_count": 18,
   "id": "658504cc-ff2f-4070-9acd-0af5798ef675",
   "metadata": {},
   "outputs": [
    {
     "name": "stdout",
     "output_type": "stream",
     "text": [
      "READ - Products with Quantity > 2:\n",
      "     SaleID     Product  Quantity  Price        Date\n",
      "1        2       Mouse         5    500  2025-08-02\n",
      "2        3    Keyboard         3   1500  2025-08-03\n",
      "5        6      Tablet         4  20000  2025-08-06\n",
      "7        8  Smartphone         6  30000  2025-08-08\n",
      "9       10     Charger         7    800  2025-08-10\n",
      "10      11   USB Cable        10    200  2025-08-11\n",
      "12      13         SSD         3   9000  2025-08-13\n",
      "14      15      Router         5   2500  2025-08-15\n",
      "15      16  Headphones         3   2500  2025-08-16\n",
      "16      16  Headphones         3   2500  2025-08-16\n",
      "17      16  Headphones         3   2500  2025-08-16\n"
     ]
    }
   ],
   "source": [
    "# Step 3: READ Operation\n",
    "read_data = df[df[\"Quantity\"] > 2]\n",
    "print(\"READ - Products with Quantity > 2:\\n\", read_data)\n"
   ]
  },
  {
   "cell_type": "markdown",
   "id": "7d3b03e4-c1c4-432e-8faf-ea23f698b204",
   "metadata": {},
   "source": [
    "## UPDATE Operation\r\n",
    "We will change the price of **Monitor** from 12000 to 13000.\r\n"
   ]
  },
  {
   "cell_type": "code",
   "execution_count": 26,
   "id": "e2664ff6-736a-4ed9-9452-fef5d2e06b78",
   "metadata": {},
   "outputs": [
    {
     "name": "stdout",
     "output_type": "stream",
     "text": [
      "After UPDATE (Monitor Price Changed):\n",
      "     SaleID        Product  Quantity  Price        Date\n",
      "0        1         Laptop         2  55000  2025-08-01\n",
      "2        3       Keyboard         3   1500  2025-08-03\n",
      "3        4        Monitor         1  13000  2025-08-04\n",
      "4        5        Printer         2   8000  2025-08-05\n",
      "5        6         Tablet         4  20000  2025-08-06\n",
      "6        7         Camera         1  45000  2025-08-07\n",
      "7        8     Smartphone         6  30000  2025-08-08\n",
      "8        9        Speaker         2   3500  2025-08-09\n",
      "9       10        Charger         7    800  2025-08-10\n",
      "10      11      USB Cable        10    200  2025-08-11\n",
      "11      12   External HDD         2   6000  2025-08-12\n",
      "12      13            SSD         3   9000  2025-08-13\n",
      "13      14  Graphics Card         1  45000  2025-08-14\n",
      "14      15         Router         5   2500  2025-08-15\n",
      "15      16     Headphones         3   2500  2025-08-16\n",
      "16      16     Headphones         3   2500  2025-08-16\n",
      "17      16     Headphones         3   2500  2025-08-16\n"
     ]
    }
   ],
   "source": [
    "# Step 4: UPDATE Operation\n",
    "df.loc[df[\"Product\"] == \"Monitor\", \"Price\"] = 13000\n",
    "print(\"After UPDATE (Monitor Price Changed):\\n\", df)\n"
   ]
  },
  {
   "cell_type": "markdown",
   "id": "0a5690ae-2274-4098-bb86-3479d8476838",
   "metadata": {},
   "source": [
    "## DELETE Operation\n",
    "We will remove all rows where `Product = Mouse`.\n"
   ]
  },
  {
   "cell_type": "code",
   "execution_count": 28,
   "id": "b627926e-c896-491e-a5cd-27abf82da1fa",
   "metadata": {},
   "outputs": [
    {
     "name": "stdout",
     "output_type": "stream",
     "text": [
      "After DELETE (Mouse Removed):\n",
      "     SaleID        Product  Quantity  Price        Date\n",
      "0        1         Laptop         2  55000  2025-08-01\n",
      "2        3       Keyboard         3   1500  2025-08-03\n",
      "3        4        Monitor         1  13000  2025-08-04\n",
      "4        5        Printer         2   8000  2025-08-05\n",
      "5        6         Tablet         4  20000  2025-08-06\n",
      "6        7         Camera         1  45000  2025-08-07\n",
      "7        8     Smartphone         6  30000  2025-08-08\n",
      "8        9        Speaker         2   3500  2025-08-09\n",
      "9       10        Charger         7    800  2025-08-10\n",
      "10      11      USB Cable        10    200  2025-08-11\n",
      "11      12   External HDD         2   6000  2025-08-12\n",
      "12      13            SSD         3   9000  2025-08-13\n",
      "13      14  Graphics Card         1  45000  2025-08-14\n",
      "14      15         Router         5   2500  2025-08-15\n",
      "15      16     Headphones         3   2500  2025-08-16\n",
      "16      16     Headphones         3   2500  2025-08-16\n",
      "17      16     Headphones         3   2500  2025-08-16\n"
     ]
    }
   ],
   "source": [
    "# Step 5: DELETE Operation\n",
    "df = df[df[\"Product\"] != \"Mouse\"]\n",
    "print(\"After DELETE (Mouse Removed):\\n\", df)\n",
    "\n",
    "# Save updated dataset\n",
    "df.to_csv(\"sales.csv\", index=False)\n"
   ]
  },
  {
   "cell_type": "code",
   "execution_count": null,
   "id": "4c25822c-88e3-40c7-be9b-c4176981d725",
   "metadata": {},
   "outputs": [],
   "source": []
  },
  {
   "cell_type": "code",
   "execution_count": null,
   "id": "971f05cb-23e8-48ee-90fd-5b13fe9bb1a4",
   "metadata": {},
   "outputs": [],
   "source": []
  },
  {
   "cell_type": "code",
   "execution_count": null,
   "id": "ce2b4d03-9def-4df6-9167-0dfd93127e0a",
   "metadata": {},
   "outputs": [],
   "source": []
  },
  {
   "cell_type": "code",
   "execution_count": null,
   "id": "ac57d096-f7cc-497b-afd0-3893fd5bdee5",
   "metadata": {},
   "outputs": [],
   "source": []
  }
 ],
 "metadata": {
  "kernelspec": {
   "display_name": "Python 3 (ipykernel)",
   "language": "python",
   "name": "python3"
  },
  "language_info": {
   "codemirror_mode": {
    "name": "ipython",
    "version": 3
   },
   "file_extension": ".py",
   "mimetype": "text/x-python",
   "name": "python",
   "nbconvert_exporter": "python",
   "pygments_lexer": "ipython3",
   "version": "3.12.3"
  }
 },
 "nbformat": 4,
 "nbformat_minor": 5
}
